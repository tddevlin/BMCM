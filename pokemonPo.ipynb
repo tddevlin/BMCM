{
 "cells": [
  {
   "cell_type": "markdown",
   "metadata": {},
   "source": [
    "# Pokemon Po"
   ]
  },
  {
   "cell_type": "markdown",
   "metadata": {},
   "source": [
    "## Naive Pokemon-catching strategy"
   ]
  },
  {
   "cell_type": "code",
   "execution_count": 285,
   "metadata": {
    "collapsed": true
   },
   "outputs": [],
   "source": [
    "import sys\n",
    "import numpy as np\n",
    "import pandas as pd\n",
    "import random\n",
    "import matplotlib.pyplot as plt\n",
    "import matplotlib.mlab as mlab\n",
    "import math\n",
    "import csv"
   ]
  },
  {
   "cell_type": "code",
   "execution_count": 286,
   "metadata": {
    "collapsed": true
   },
   "outputs": [],
   "source": [
    "walking_speed = 0.129 # blocks/min"
   ]
  },
  {
   "cell_type": "code",
   "execution_count": 287,
   "metadata": {
    "collapsed": false
   },
   "outputs": [
    {
     "data": {
      "text/html": [
       "<div>\n",
       "<table border=\"1\" class=\"dataframe\">\n",
       "  <thead>\n",
       "    <tr style=\"text-align: right;\">\n",
       "      <th></th>\n",
       "      <th>xCoord</th>\n",
       "      <th>yCoord</th>\n",
       "      <th>points</th>\n",
       "      <th>time</th>\n",
       "    </tr>\n",
       "  </thead>\n",
       "  <tbody>\n",
       "    <tr>\n",
       "      <th>0</th>\n",
       "      <td>3</td>\n",
       "      <td>1</td>\n",
       "      <td>12</td>\n",
       "      <td>0</td>\n",
       "    </tr>\n",
       "    <tr>\n",
       "      <th>1</th>\n",
       "      <td>7</td>\n",
       "      <td>2</td>\n",
       "      <td>6</td>\n",
       "      <td>34</td>\n",
       "    </tr>\n",
       "    <tr>\n",
       "      <th>2</th>\n",
       "      <td>10</td>\n",
       "      <td>6</td>\n",
       "      <td>4</td>\n",
       "      <td>70</td>\n",
       "    </tr>\n",
       "    <tr>\n",
       "      <th>3</th>\n",
       "      <td>4</td>\n",
       "      <td>10</td>\n",
       "      <td>3</td>\n",
       "      <td>104</td>\n",
       "    </tr>\n",
       "    <tr>\n",
       "      <th>4</th>\n",
       "      <td>8</td>\n",
       "      <td>3</td>\n",
       "      <td>1</td>\n",
       "      <td>140</td>\n",
       "    </tr>\n",
       "  </tbody>\n",
       "</table>\n",
       "</div>"
      ],
      "text/plain": [
       "   xCoord  yCoord  points  time\n",
       "0       3       1      12     0\n",
       "1       7       2       6    34\n",
       "2      10       6       4    70\n",
       "3       4      10       3   104\n",
       "4       8       3       1   140"
      ]
     },
     "execution_count": 287,
     "metadata": {},
     "output_type": "execute_result"
    }
   ],
   "source": [
    "df = pd.read_csv('Providence_Pokemon_1.csv', names = [\"xCoord\", \"yCoord\", \"points\", \"time\"])\n",
    "df = df[:-1] # remove 0 row\n",
    "df.head()"
   ]
  },
  {
   "cell_type": "markdown",
   "metadata": {},
   "source": [
    "The function `simpleAlgorithm` takes in the current location, `current`, the walking speed, `speed`, and a dataset `pokeData`. It returns the number of Pokemon caught and their total point value using a naive Pokemon-catching strategy."
   ]
  },
  {
   "cell_type": "code",
   "execution_count": 317,
   "metadata": {
    "collapsed": true
   },
   "outputs": [],
   "source": [
    "def simpleAlgorithm(current_location, speed, pokeData):\n",
    "    pokemon_caught = 0\n",
    "    points = 0\n",
    "    time = 0\n",
    "    for index, row in pokeData.iterrows():\n",
    "        pokemon_location = (row[\"xCoord\"], row[\"yCoord\"])\n",
    "        arrival_time = row[\"time\"]\n",
    "        possible_time = min(arrival_time + 15 - time, 15)\n",
    "        within_range, travel_time = inRange(current_location, pokemon_location, possible_time, speed)\n",
    "        if within_range:\n",
    "            pokemon_caught += 1\n",
    "            points += row[\"points\"]\n",
    "            time += travel_time\n",
    "            current_location = pokemon_location\n",
    "        else:\n",
    "            time = arrival_time\n",
    "    return pokemon_caught, points"
   ]
  },
  {
   "cell_type": "markdown",
   "metadata": {},
   "source": [
    "The function `inRange` determines whether you can make it from the starting coordinates, `start`, to the ending coordinates, `end`, in `time` minutes or less. If so, it returns 1 and the amount of time required. If not, it returns (0, 0)."
   ]
  },
  {
   "cell_type": "code",
   "execution_count": 289,
   "metadata": {
    "collapsed": true
   },
   "outputs": [],
   "source": [
    "def inRange(start, end, time, speed):\n",
    "    xDist = abs(end[0] - start[0])\n",
    "    yDist = abs(end[1] - start[1])\n",
    "    elapsed = (xDist + yDist)/speed\n",
    "    if elapsed <= time:\n",
    "        return 1, elapsed\n",
    "    else:\n",
    "        return 0, 0"
   ]
  },
  {
   "cell_type": "markdown",
   "metadata": {},
   "source": [
    "##### Test case for `simpleAlgorithm`"
   ]
  },
  {
   "cell_type": "code",
   "execution_count": 292,
   "metadata": {
    "collapsed": false
   },
   "outputs": [
    {
     "data": {
      "text/html": [
       "<div>\n",
       "<table border=\"1\" class=\"dataframe\">\n",
       "  <thead>\n",
       "    <tr style=\"text-align: right;\">\n",
       "      <th></th>\n",
       "      <th>xCoord</th>\n",
       "      <th>yCoord</th>\n",
       "      <th>points</th>\n",
       "      <th>time</th>\n",
       "    </tr>\n",
       "  </thead>\n",
       "  <tbody>\n",
       "    <tr>\n",
       "      <th>0</th>\n",
       "      <td>1</td>\n",
       "      <td>1</td>\n",
       "      <td>5</td>\n",
       "      <td>0.0</td>\n",
       "    </tr>\n",
       "    <tr>\n",
       "      <th>1</th>\n",
       "      <td>1</td>\n",
       "      <td>2</td>\n",
       "      <td>3</td>\n",
       "      <td>1.0</td>\n",
       "    </tr>\n",
       "    <tr>\n",
       "      <th>2</th>\n",
       "      <td>2</td>\n",
       "      <td>2</td>\n",
       "      <td>22</td>\n",
       "      <td>1.5</td>\n",
       "    </tr>\n",
       "    <tr>\n",
       "      <th>3</th>\n",
       "      <td>2</td>\n",
       "      <td>1</td>\n",
       "      <td>10</td>\n",
       "      <td>2.0</td>\n",
       "    </tr>\n",
       "    <tr>\n",
       "      <th>4</th>\n",
       "      <td>1</td>\n",
       "      <td>2</td>\n",
       "      <td>1</td>\n",
       "      <td>3.0</td>\n",
       "    </tr>\n",
       "  </tbody>\n",
       "</table>\n",
       "</div>"
      ],
      "text/plain": [
       "   xCoord  yCoord  points  time\n",
       "0       1       1       5   0.0\n",
       "1       1       2       3   1.0\n",
       "2       2       2      22   1.5\n",
       "3       2       1      10   2.0\n",
       "4       1       2       1   3.0"
      ]
     },
     "execution_count": 292,
     "metadata": {},
     "output_type": "execute_result"
    }
   ],
   "source": [
    "testData = [[1, 1, 5 , 0],\n",
    "            [1, 2, 3 , 1],\n",
    "            [2, 2, 22, 1.5],\n",
    "            [2, 1, 10, 2],\n",
    "            [1, 2, 1 , 3]]\n",
    "testdf = pd.DataFrame(testData, columns = [\"xCoord\", \"yCoord\", \"points\", \"time\"])\n",
    "testdf"
   ]
  },
  {
   "cell_type": "code",
   "execution_count": 293,
   "metadata": {
    "collapsed": false
   },
   "outputs": [
    {
     "data": {
      "text/plain": [
       "(3, 9.0)"
      ]
     },
     "execution_count": 293,
     "metadata": {},
     "output_type": "execute_result"
    }
   ],
   "source": [
    "simpleAlgorithm((1,1), 1/15, testdf)"
   ]
  },
  {
   "cell_type": "markdown",
   "metadata": {},
   "source": [
    "## Exploratory data analysis"
   ]
  },
  {
   "cell_type": "code",
   "execution_count": 295,
   "metadata": {
    "collapsed": false
   },
   "outputs": [],
   "source": [
    "node_score = np.zeros((12, 12))\n",
    "for index, row in df.iterrows():\n",
    "    node_score[row[\"xCoord\"], row[\"yCoord\"]] += row[\"points\"]"
   ]
  },
  {
   "cell_type": "code",
   "execution_count": 296,
   "metadata": {
    "collapsed": false
   },
   "outputs": [
    {
     "data": {
      "image/png": "[encoded data removed]",
      "text/plain": [
       "<matplotlib.figure.Figure at 0x115fd67b8>"
      ]
     },
     "metadata": {},
     "output_type": "display_data"
    }
   ],
   "source": [
    "plt.style.use('ggplot')\n",
    "fig = plt.gca()\n",
    "fig.set_aspect('equal')\n",
    "fig.set_xticks(np.array([1,2,3,4,5,6,7,8,9,10]) + 0.5)\n",
    "fig.set_xticklabels([1,2,3,4,5,6,7,8,9,10])\n",
    "fig.set_yticks(np.array([1,2,3,4,5,6,7,8,9,10]) + 0.5)\n",
    "fig.set_yticklabels([1,2,3,4,5,6,7,8,9,10])\n",
    "fig.invert_yaxis()\n",
    "fig.set_title(\"Total point value over 42 days\", size=14)\n",
    "plt.pcolor(node_score ,cmap=plt.cm.Reds)\n",
    "plt.colorbar()\n",
    "#plt.show()\n",
    "#plt.savefig(\"totalPoint.png\")\n",
    "plt.savefig('right orientation.pdf', format='pdf')"
   ]
  },
  {
   "cell_type": "code",
   "execution_count": 297,
   "metadata": {
    "collapsed": true
   },
   "outputs": [],
   "source": [
    "node_number = np.zeros((12, 12))\n",
    "for index, row in df.iterrows():\n",
    "    node_number[row[\"xCoord\"], row[\"yCoord\"]] += 1"
   ]
  },
  {
   "cell_type": "code",
   "execution_count": 298,
   "metadata": {
    "collapsed": false
   },
   "outputs": [
    {
     "data": {
      "image/png": "[encoded data removed]",
      "text/plain": [
       "<matplotlib.figure.Figure at 0x114d9b668>"
      ]
     },
     "metadata": {},
     "output_type": "display_data"
    }
   ],
   "source": [
    "plt.style.use('ggplot')\n",
    "fig = plt.gca()\n",
    "fig.set_aspect('equal')\n",
    "fig.set_xticks(np.array([1,2,3,4,5,6,7,8,9,10]) + 0.5)\n",
    "fig.set_xticklabels([1,2,3,4,5,6,7,8,9,10])\n",
    "fig.set_yticks(np.array([1,2,3,4,5,6,7,8,9,10]) + 0.5)\n",
    "fig.invert_yaxis()\n",
    "fig.set_yticklabels([1,2,3,4,5,6,7,8,9,10])\n",
    "fig.set_title(\"Total number of Pokemon over 42 days\", size=14)\n",
    "plt.pcolor(node_number ,cmap=plt.cm.Reds)\n",
    "plt.colorbar()\n",
    "#plt.show()\n",
    "plt.savefig(\"totalNumber.png\", padinches=0)"
   ]
  },
  {
   "cell_type": "code",
   "execution_count": 299,
   "metadata": {
    "collapsed": false
   },
   "outputs": [
    {
     "data": {
      "image/png": "[encoded data removed]",
      "text/plain": [
       "<matplotlib.figure.Figure at 0x115b977f0>"
      ]
     },
     "metadata": {},
     "output_type": "display_data"
    }
   ],
   "source": [
    "plt.style.use('ggplot')\n",
    "plt.hist(df[\"points\"], bins=20, histtype='stepfilled', normed=True, color='black')\n",
    "plt.title(\"Empirical distribution of point values\", size=18)\n",
    "plt.xlabel(\"Point value\")\n",
    "plt.ylabel(\"Frequency\")\n",
    "plt.savefig(\"Spmf.png\")"
   ]
  },
  {
   "cell_type": "code",
   "execution_count": 300,
   "metadata": {
    "collapsed": false
   },
   "outputs": [],
   "source": [
    "timeBetween = np.zeros(len(df[\"time\"]) - 1)\n",
    "for i in range(len(df[\"time\"])):\n",
    "    if i == len(df[\"time\"])-1:\n",
    "        break\n",
    "    timeBetween[i] = df[\"time\"][i+1] - df[\"time\"][i]"
   ]
  },
  {
   "cell_type": "code",
   "execution_count": 301,
   "metadata": {
    "collapsed": false
   },
   "outputs": [
    {
     "data": {
      "text/plain": [
       "1998"
      ]
     },
     "execution_count": 301,
     "metadata": {},
     "output_type": "execute_result"
    }
   ],
   "source": [
    "len(timeBetween)"
   ]
  },
  {
   "cell_type": "code",
   "execution_count": 302,
   "metadata": {
    "collapsed": false
   },
   "outputs": [],
   "source": [
    "mu = np.mean(timeBetween)\n",
    "sigma2 = np.var(timeBetween)\n",
    "y = mlab.normpdf(np.linspace(0,70,1000), mu, np.sqrt(sigma2))"
   ]
  },
  {
   "cell_type": "code",
   "execution_count": 303,
   "metadata": {
    "collapsed": false
   },
   "outputs": [
    {
     "data": {
      "image/png": "[encoded data removed]",
      "text/plain": [
       "<matplotlib.figure.Figure at 0x115b03128>"
      ]
     },
     "metadata": {},
     "output_type": "display_data"
    }
   ],
   "source": [
    "plt.style.use('ggplot')\n",
    "plt.hist(timeBetween, bins=20, histtype='stepfilled', normed=True, color='black')\n",
    "plt.title(\"Empirical distribution of time intervals\", size=16)\n",
    "plt.xlabel(\"Time between Pokemon appearances\")\n",
    "plt.ylabel(\"Frequency\")\n",
    "plt.plot(np.linspace(0,70,1000), y, 'r-', linewidth=2)\n",
    "plt.savefig(\"interval_hist.png\")"
   ]
  },
  {
   "cell_type": "markdown",
   "metadata": {},
   "source": [
    "## Improved model informed by above results"
   ]
  },
  {
   "cell_type": "code",
   "execution_count": 309,
   "metadata": {
    "collapsed": false
   },
   "outputs": [],
   "source": [
    "def complicatedAlgorithm(current_location, speed, pokeData, scoring):\n",
    "    pokemon_caught = 0\n",
    "    points = 0\n",
    "    time = 0\n",
    "    maxTime = max(pokeData[\"time\"])\n",
    "    while time < maxTime:\n",
    "        pokemon_on_board = pokeData[(pokeData[\"time\"] <= time) & (pokeData[\"time\"] >= time - 15)]\n",
    "        bestPoints = 0\n",
    "        target_node = best_node(current_location[0], current_location[1], scoring)\n",
    "        for index, row in pokemon_on_board.iterrows():\n",
    "            pokemon_location = [row[\"xCoord\"], row[\"yCoord\"]]\n",
    "            if pokemon_location == current_location:\n",
    "                pokemon_caught += 1\n",
    "                points += row[\"points\"]\n",
    "                pokeData = pokeData.drop(index)\n",
    "                pokemon_on_board = pokemon_on_board.drop(index)\n",
    "            else:\n",
    "                arrival_time = row[\"time\"]\n",
    "                possible_time = min(arrival_time + 15 - time, 15)\n",
    "                within_range, travel_time = inRange(current_location, pokemon_location, possible_time, speed)\n",
    "                if within_range and row[\"points\"] > bestPoints:\n",
    "                    bestPoints = row[\"points\"]\n",
    "                    target_node = pokemon_location\n",
    "                    \n",
    "        # move toward target node\n",
    "        if current_location[0] != target_node[0]:\n",
    "            current_location[0] += np.sign(target_node[0] - current_location[0])\n",
    "        else:\n",
    "            current_location[1] += np.sign(target_node[1] - current_location[1])\n",
    "        time += 1/speed # add time required to cross edge\n",
    "        \n",
    "    return pokemon_caught, points"
   ]
  },
  {
   "cell_type": "code",
   "execution_count": 321,
   "metadata": {
    "collapsed": true
   },
   "outputs": [],
   "source": [
    "def globalAlgorithm(current_location, speed, pokeData):\n",
    "    pokemon_caught = 0\n",
    "    points = 0\n",
    "    time = 0\n",
    "    maxTime = max(pokeData[\"time\"])\n",
    "    while time < maxTime:\n",
    "        pokemon_on_board = pokeData[(pokeData[\"time\"] <= time) & (pokeData[\"time\"] >= time - 15)]\n",
    "        bestPoints = 0\n",
    "        target_node = [3,8]\n",
    "        for index, row in pokemon_on_board.iterrows():\n",
    "            pokemon_location = [row[\"xCoord\"], row[\"yCoord\"]]\n",
    "            if pokemon_location == current_location:\n",
    "                pokemon_caught += 1\n",
    "                points += row[\"points\"]\n",
    "                pokeData = pokeData.drop(index)\n",
    "                pokemon_on_board = pokemon_on_board.drop(index)\n",
    "            else:\n",
    "                arrival_time = row[\"time\"]\n",
    "                possible_time = min(arrival_time + 15 - time, 15)\n",
    "                within_range, travel_time = inRange(current_location, pokemon_location, possible_time, speed)\n",
    "                if within_range and row[\"points\"] > bestPoints:\n",
    "                    bestPoints = row[\"points\"]\n",
    "                    target_node = pokemon_location\n",
    "        \n",
    "        # move toward target node\n",
    "        if current_location[0] != target_node[0]:\n",
    "            current_location[0] += np.sign(target_node[0] - current_location[0])\n",
    "        else:\n",
    "            current_location[1] += np.sign(target_node[1] - current_location[1])\n",
    "        time += 1/speed # add time required to cross edge\n",
    "        \n",
    "    return pokemon_caught, points"
   ]
  },
  {
   "cell_type": "code",
   "execution_count": 311,
   "metadata": {
    "collapsed": true
   },
   "outputs": [],
   "source": [
    "def best_node(x, y, scoring):\n",
    "    left = scoring[x - 1, y]\n",
    "    right = scoring[x + 1, y]\n",
    "    down = scoring[x, y - 1]\n",
    "    up = scoring[x, y + 1]\n",
    "    best = max(left, right, down, up)\n",
    "    if best == left:\n",
    "        return (x-1, y)\n",
    "    elif best == right:\n",
    "        return (x+1, y)\n",
    "    elif best == down:\n",
    "        return (x, y-1)\n",
    "    elif best == up:\n",
    "        return (x, y+1)"
   ]
  },
  {
   "cell_type": "markdown",
   "metadata": {},
   "source": [
    "## Cross-validation"
   ]
  },
  {
   "cell_type": "code",
   "execution_count": 328,
   "metadata": {
    "collapsed": false
   },
   "outputs": [],
   "source": [
    "k = 10\n",
    "partition_size = len(df)/k\n",
    "complicated_results = []\n",
    "simple_results = []\n",
    "global_results = []\n",
    "for i in range(k):\n",
    "    train_data = pd.concat([df.iloc[0: int(i * partition_size)],\n",
    "                            df.iloc[int((i+1) * partition_size): len(df)]])\n",
    "    test_data = df.iloc[int(i * partition_size) : int((i+1) * partition_size)]\n",
    "    min_time = min(test_data[\"time\"])\n",
    "    max_time = max(test_data[\"time\"])\n",
    "    interval = max_time - min_time\n",
    "    \n",
    "    score = np.zeros((12, 12))\n",
    "    for index, row in train_data.iterrows():\n",
    "        score[row[\"xCoord\"], row[\"yCoord\"]] += row[\"points\"]\n",
    "    n, t = complicatedAlgorithm([5,5], walking_speed, test_data, score)\n",
    "    complicated_results.append([n / interval * 12*60, t / interval * 12*60])\n",
    "    n, t = simpleAlgorithm([5,5], walking_speed, test_data)\n",
    "    simple_results.append([n / interval * 12*60, t / interval * 12*60])\n",
    "    n, t = globalAlgorithm([5,5], walking_speed, test_data)\n",
    "    global_results.append([n / interval * 12*60, t / interval * 12*60])"
   ]
  },
  {
   "cell_type": "code",
   "execution_count": 329,
   "metadata": {
    "collapsed": false
   },
   "outputs": [
    {
     "data": {
      "text/plain": [
       "[[3.5128071092524831, 16.936748562467329],\n",
       " [3.2492060839043959, 15.403643657028249],\n",
       " [4.0342781806196442, 14.950560316413975],\n",
       " [1.7857142857142856, 8.2142857142857135],\n",
       " [0.7122835943940643, 2.1368507831821928],\n",
       " [3.548606390210741, 17.865397688647178],\n",
       " [0.8393005828476271, 3.5970024979184014],\n",
       " [3.0703624733475481, 15.58799409545678],\n",
       " [2.4383164005805513, 8.2438316400580547],\n",
       " [1.5276644361024974, 6.4631956912028734]]"
      ]
     },
     "execution_count": 329,
     "metadata": {},
     "output_type": "execute_result"
    }
   ],
   "source": [
    "complicated_results"
   ]
  },
  {
   "cell_type": "code",
   "execution_count": 330,
   "metadata": {
    "collapsed": false
   },
   "outputs": [
    {
     "data": {
      "text/plain": [
       "[[0.75274438055410342, 2.1327757449032934],\n",
       " [0.60170483035266586, 2.045796423199064],\n",
       " [0.59327620303230066, 2.0171390903098221],\n",
       " [1.3095238095238095, 3.9285714285714279],\n",
       " [1.3058532563891181, 4.9859851607584496],\n",
       " [0.36709721278042151, 0.9789259007477904],\n",
       " [1.0791007493755205, 2.877601998334721],\n",
       " [1.0628177792356899, 5.0779071674594061],\n",
       " [1.0449927431059507, 1.9738751814223512],\n",
       " [0.58756324465480658, 4.2304553615146077]]"
      ]
     },
     "execution_count": 330,
     "metadata": {},
     "output_type": "execute_result"
    }
   ],
   "source": [
    "simple_results"
   ]
  },
  {
   "cell_type": "code",
   "execution_count": 331,
   "metadata": {
    "collapsed": false
   },
   "outputs": [
    {
     "data": {
      "text/plain": [
       "[[3.8891792995295349, 18.567694720334554],\n",
       " [3.8509109142570623, 16.125689453451447],\n",
       " [4.8648648648648649, 19.696769940672382],\n",
       " [4.0476190476190474, 20.0],\n",
       " [2.9678483099752677, 15.195383347073374],\n",
       " [3.7933378653976888, 19.456152277362339],\n",
       " [4.3164029975020819, 23.38051623646961],\n",
       " [3.8969985238641951, 20.429719534197147],\n",
       " [3.2510885341074021, 10.101596516690856],\n",
       " [2.1152276807573038, 11.046188999510363]]"
      ]
     },
     "execution_count": 331,
     "metadata": {},
     "output_type": "execute_result"
    }
   ],
   "source": [
    "global_results"
   ]
  }
 ],
 "metadata": {
  "anaconda-cloud": {},
  "kernelspec": {
   "display_name": "Python [Root]",
   "language": "python",
   "name": "Python [Root]"
  },
  "language_info": {
   "codemirror_mode": {
    "name": "ipython",
    "version": 3
   },
   "file_extension": ".py",
   "mimetype": "text/x-python",
   "name": "python",
   "nbconvert_exporter": "python",
   "pygments_lexer": "ipython3",
   "version": "3.5.2"
  }
 },
 "nbformat": 4,
 "nbformat_minor": 0
}
